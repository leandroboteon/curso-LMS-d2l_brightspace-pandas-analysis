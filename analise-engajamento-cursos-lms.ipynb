{
 "cells": [
  {
   "cell_type": "code",
   "execution_count": 255,
   "id": "503cbd57-001f-4653-9782-3b8ee36ecbf2",
   "metadata": {},
   "outputs": [],
   "source": [
    "import pandas as pd\n",
    "import numpy as np"
   ]
  },
  {
   "cell_type": "code",
   "execution_count": 256,
   "id": "78017212-db37-42cf-9c14-a4147096d7e0",
   "metadata": {},
   "outputs": [],
   "source": [
    "df_conclusao = pd.read_csv(\"ContentUserCompletion.csv\", sep=\",\")\n",
    "df_modulo = pd.read_csv(\"ContentObjects.csv\", sep=\",\")\n",
    "df_conteudo = df_modulo.copy()\n",
    "df_curso = pd.read_csv(\"OrganizationalUnits.csv\", sep=\",\")\n",
    "df_usuario = pd.read_csv(\"Users.csv\", sep=\",\")\n",
    "df_inscricao = pd.read_csv(\"UserEnrollments.csv\", sep=\",\")"
   ]
  },
  {
   "cell_type": "code",
   "execution_count": 257,
   "id": "c7821790-4135-40c1-83ac-f0a3ded4cfd7",
   "metadata": {},
   "outputs": [],
   "source": [
    "# tratamento do df_modulo\n",
    "\n",
    "# filtrar ContentObjectType para Module\n",
    "df_modulo = df_modulo[df_modulo[\"ContentObjectType\"] == \"Module\"]\n",
    "\n",
    "# manter ContentObjectId, OrgUnitId, Title e ParentContentObjectId\n",
    "df_modulo = df_modulo[[\"ContentObjectId\", \"OrgUnitId\", \"Title\", \"ParentContentObjectId\"]]\n",
    "\n",
    "# ParentContentObjectId = 0 para manter somente os módulos dos cursos\n",
    "df_modulo = df_modulo[df_modulo[\"ParentContentObjectId\"] == 0]\n",
    "\n",
    "# renomear colunas\n",
    "df_modulo = df_modulo.rename(columns={\"ContentObjectId\":\"ModuleObjectId\", \"Title\":\"ModuleTitle\"})\n",
    "\n",
    "# remover coluna parent\n",
    "df_modulo = df_modulo.drop([\"ParentContentObjectId\"], axis=1)\n",
    "\n",
    "#df_modulo.head()"
   ]
  },
  {
   "cell_type": "code",
   "execution_count": 258,
   "id": "4457ceee-386b-478c-bae7-9a941f1b091e",
   "metadata": {},
   "outputs": [],
   "source": [
    "\n",
    "# fazer join com curso"
   ]
  },
  {
   "cell_type": "code",
   "execution_count": 259,
   "id": "0c8a0d2d-76a7-41d9-99a5-cdd857906381",
   "metadata": {},
   "outputs": [],
   "source": [
    "# ishidden = false\n",
    "# is deleted = 0\n",
    "# content object type = Topic\n",
    "# completion type = Auto\n",
    "df_conteudo = df_conteudo[(df_conteudo[\"IsHidden\"] == False) & (df_conteudo[\"IsDeleted\"] == 0) & (df_conteudo[\"ContentObjectType\"] == \"Topic\") & (df_conteudo[\"CompletionType\"] == \"Auto\")]\n",
    "\n",
    "\n",
    "df_conteudo = df_conteudo[[\"ContentObjectId\", \"Title\", \"ParentContentObjectId\"]]\n",
    "\n",
    "\n",
    "# renomear colunas para ficar similar ao df_modulo\n",
    "df_conteudo = df_conteudo.rename(columns={\"Title\": \"ContentTitle\", \"ParentContentObjectId\":\"ModuleObjectId\"})\n",
    "#df_conteudo"
   ]
  },
  {
   "cell_type": "code",
   "execution_count": 260,
   "id": "d77f3305-1ccf-4bb3-86c0-ff7c1d0bb874",
   "metadata": {},
   "outputs": [],
   "source": [
    "# fazer o join com modulo\n",
    "df_conteudo_modulo = df_conteudo.merge(df_modulo, how=\"inner\", on=\"ModuleObjectId\")\n",
    "#df_conteudo_modulo"
   ]
  },
  {
   "cell_type": "code",
   "execution_count": 261,
   "id": "3bac504e-5999-4ff6-ace7-827b318336d7",
   "metadata": {},
   "outputs": [],
   "source": [
    "# tratamento df_curso\n",
    "df_curso = df_curso[[\"OrgUnitId\", \"Name\"]]"
   ]
  },
  {
   "cell_type": "code",
   "execution_count": 262,
   "id": "45f05b70-4b79-433a-80dc-a24f7b70054f",
   "metadata": {},
   "outputs": [],
   "source": [
    "# join modulo conteudo curso\n",
    "\n",
    "df_conteudo_modulo_curso = df_conteudo_modulo.merge(df_curso, how=\"inner\", on=\"OrgUnitId\")"
   ]
  },
  {
   "cell_type": "code",
   "execution_count": 263,
   "id": "32593fda-15bf-4f71-a282-62385caceccc",
   "metadata": {},
   "outputs": [],
   "source": [
    "# alterar posição das colunas\n",
    "df_conteudo_modulo_curso = df_conteudo_modulo_curso[[\"OrgUnitId\", \"Name\", \"ModuleObjectId\", \"ModuleTitle\", \"ContentObjectId\", \"ContentTitle\"]]"
   ]
  },
  {
   "cell_type": "code",
   "execution_count": 264,
   "id": "02a59b09-8f92-4588-9cc2-3f3e542487ad",
   "metadata": {},
   "outputs": [],
   "source": [
    "#df_conteudo_modulo_curso"
   ]
  },
  {
   "cell_type": "code",
   "execution_count": null,
   "id": "4e719b67-5d5e-464a-a75c-3e09edba2368",
   "metadata": {},
   "outputs": [],
   "source": []
  },
  {
   "cell_type": "code",
   "execution_count": null,
   "id": "1f159b25-4d33-4885-9201-b390fc57a590",
   "metadata": {},
   "outputs": [],
   "source": []
  }
 ],
 "metadata": {
  "kernelspec": {
   "display_name": "Python 3 (ipykernel)",
   "language": "python",
   "name": "python3"
  },
  "language_info": {
   "codemirror_mode": {
    "name": "ipython",
    "version": 3
   },
   "file_extension": ".py",
   "mimetype": "text/x-python",
   "name": "python",
   "nbconvert_exporter": "python",
   "pygments_lexer": "ipython3",
   "version": "3.11.5"
  }
 },
 "nbformat": 4,
 "nbformat_minor": 5
}
